{
 "cells": [
  {
   "cell_type": "markdown",
   "metadata": {},
   "source": [
    "# Comparativa de Resultados\n",
    "\n",
    "A continuación, se comparan los resultados obtenidos en los distintos algoritmos."
   ]
  },
  {
   "cell_type": "code",
   "execution_count": 41,
   "metadata": {},
   "outputs": [],
   "source": [
    "import pandas as pd\n",
    "import seaborn as sns"
   ]
  },
  {
   "cell_type": "code",
   "execution_count": 42,
   "metadata": {},
   "outputs": [],
   "source": [
    "%store -r lineal_simple\n",
    "%store -r lineal_mult\n",
    "%store -r svm_lin_sc\n",
    "%store -r svm_rbf_sc\n",
    "%store -r svm_poly_sc\n",
    "%store -r knn_regr_sc\n",
    "%store -r tree_regr_sc\n",
    "%store -r gauss_regr_sc\n",
    "%store -r sgd_regr_sc"
   ]
  },
  {
   "cell_type": "code",
   "execution_count": 43,
   "metadata": {},
   "outputs": [],
   "source": [
    "\n",
    "names = [\"Regresión Lineal Simple\", \"Regresión Lineal Múltiple\", \"SVM Lineal\", \"SVM RBF\", \"SVM Polinomial\",\n",
    "         \"kNN\", \"Árboles Decisión\", \"Regresión Gaussiana\", \"SGD\"]\n",
    "scores = [lineal_simple, lineal_mult, svm_lin_sc, svm_rbf_sc, svm_poly_sc, knn_regr_sc, tree_regr_sc,\n",
    "          gauss_regr_sc, sgd_regr_sc]"
   ]
  },
  {
   "cell_type": "code",
   "execution_count": 44,
   "metadata": {},
   "outputs": [
    {
     "data": {
      "text/html": [
       "<div>\n",
       "<style scoped>\n",
       "    .dataframe tbody tr th:only-of-type {\n",
       "        vertical-align: middle;\n",
       "    }\n",
       "\n",
       "    .dataframe tbody tr th {\n",
       "        vertical-align: top;\n",
       "    }\n",
       "\n",
       "    .dataframe thead th {\n",
       "        text-align: right;\n",
       "    }\n",
       "</style>\n",
       "<table border=\"1\" class=\"dataframe\">\n",
       "  <thead>\n",
       "    <tr style=\"text-align: right;\">\n",
       "      <th></th>\n",
       "      <th>name</th>\n",
       "      <th>score</th>\n",
       "    </tr>\n",
       "  </thead>\n",
       "  <tbody>\n",
       "    <tr>\n",
       "      <th>0</th>\n",
       "      <td>Regresión Lineal Simple</td>\n",
       "      <td>0.546706</td>\n",
       "    </tr>\n",
       "    <tr>\n",
       "      <th>1</th>\n",
       "      <td>Regresión Lineal Múltiple</td>\n",
       "      <td>0.812029</td>\n",
       "    </tr>\n",
       "    <tr>\n",
       "      <th>2</th>\n",
       "      <td>SVM Lineal</td>\n",
       "      <td>0.502681</td>\n",
       "    </tr>\n",
       "    <tr>\n",
       "      <th>3</th>\n",
       "      <td>SVM RBF</td>\n",
       "      <td>0.687070</td>\n",
       "    </tr>\n",
       "    <tr>\n",
       "      <th>4</th>\n",
       "      <td>SVM Polinomial</td>\n",
       "      <td>0.454467</td>\n",
       "    </tr>\n",
       "    <tr>\n",
       "      <th>5</th>\n",
       "      <td>kNN</td>\n",
       "      <td>0.574173</td>\n",
       "    </tr>\n",
       "    <tr>\n",
       "      <th>6</th>\n",
       "      <td>Árboles Decisión</td>\n",
       "      <td>0.646294</td>\n",
       "    </tr>\n",
       "    <tr>\n",
       "      <th>7</th>\n",
       "      <td>Regresión Gaussiana</td>\n",
       "      <td>0.759823</td>\n",
       "    </tr>\n",
       "    <tr>\n",
       "      <th>8</th>\n",
       "      <td>SGD</td>\n",
       "      <td>0.263511</td>\n",
       "    </tr>\n",
       "  </tbody>\n",
       "</table>\n",
       "</div>"
      ],
      "text/plain": [
       "                        name     score\n",
       "0    Regresión Lineal Simple  0.546706\n",
       "1  Regresión Lineal Múltiple  0.812029\n",
       "2                 SVM Lineal  0.502681\n",
       "3                    SVM RBF  0.687070\n",
       "4             SVM Polinomial  0.454467\n",
       "5                        kNN  0.574173\n",
       "6           Árboles Decisión  0.646294\n",
       "7        Regresión Gaussiana  0.759823\n",
       "8                        SGD  0.263511"
      ]
     },
     "execution_count": 44,
     "metadata": {},
     "output_type": "execute_result"
    }
   ],
   "source": [
    "df = pd.DataFrame()\n",
    "df['name'] = names\n",
    "df['score'] = scores\n",
    "df"
   ]
  },
  {
   "cell_type": "code",
   "execution_count": 45,
   "metadata": {},
   "outputs": [
    {
     "data": {
      "image/png": "[encoded data removed]",
      "text/plain": [
       "<Figure size 432x288 with 1 Axes>"
      ]
     },
     "metadata": {},
     "output_type": "display_data"
    }
   ],
   "source": [
    "sns.set(style=\"whitegrid\")\n",
    "ax = sns.barplot(y=\"name\", x=\"score\", data=df)"
   ]
  }
 ],
 "metadata": {
  "kernelspec": {
   "display_name": "Python 3",
   "language": "python",
   "name": "python3"
  },
  "language_info": {
   "codemirror_mode": {
    "name": "ipython",
    "version": 3
   },
   "file_extension": ".py",
   "mimetype": "text/x-python",
   "name": "python",
   "nbconvert_exporter": "python",
   "pygments_lexer": "ipython3",
   "version": "3.8.3"
  }
 },
 "nbformat": 4,
 "nbformat_minor": 4
}
