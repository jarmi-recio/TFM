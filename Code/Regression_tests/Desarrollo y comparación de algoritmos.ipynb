{
 "cells": [
  {
   "cell_type": "markdown",
   "metadata": {},
   "source": [
    "# Desarrollo y comparación de algoritmos regresivos para la estimación de edades estelares"
   ]
  },
  {
   "cell_type": "markdown",
   "metadata": {},
   "source": [
    "### 1. Carga y procesado del dataset"
   ]
  },
  {
   "cell_type": "code",
   "execution_count": 1,
   "metadata": {},
   "outputs": [],
   "source": [
    "import pandas as pd\n",
    "import numpy as np\n",
    "\n",
    "# Se carga el dataset como un dataframe.\n",
    "df = pd.read_csv('/Users/jarmireciomartinez/Doctorado_Python/Pruebas_regresion/gyro_tot_v20180801.txt', sep=\"\\t\", header=0)\n",
    "\n",
    "# Se eliminan las filas con valores NULL/NA.\n",
    "df = df.dropna()"
   ]
  },
  {
   "cell_type": "markdown",
   "metadata": {},
   "source": [
    "### 2. Selección de características clave"
   ]
  },
  {
   "cell_type": "code",
   "execution_count": 2,
   "metadata": {},
   "outputs": [],
   "source": [
    "# Se crea un segundo dataset con las características a utilizar.\n",
    "df_2 = df[['Seq', 'M', 'R', 'Teff','L','Meta','logg','Prot','Age']]\n",
    "\n",
    "# Se definen las variables para entrenar y probar el modelo, además de la variable etiqueta.\n",
    "Y = np.array(df_2['Age']) #Predecir Age, etiqueta\n",
    "#X = np.array(df_2[['M']]) #A través de la masa\n",
    "X = np.array(df[['Seq', 'M', 'R', 'Teff','L','Meta','logg','Prot']]) #A través de las demás columnas\n",
    "\n",
    "from sklearn import preprocessing\n",
    "from sklearn.preprocessing import normalize\n",
    "\n",
    "X_norm = preprocessing.normalize(X, norm='l2') #Normalización del conjunto de características"
   ]
  },
  {
   "cell_type": "markdown",
   "metadata": {},
   "source": [
    "### 2.1 Observaciones:\n",
    "\n",
    "- El algoritmo lineal de regresión, presenta mejores resultados con todas las características sin normalizar.\n",
    "- El algoritmo SVR, presenta mejores resultados con X = np.array(df_2[['M']]) que con el resto de características juntas y normalizadas.\n",
    "- El algoritmo kNN, presenta mejores resultados con X = np.array(df_2[['M']]) que con el resto de características juntas y normalizadas.\n",
    "- El algoritmo de árboles de decisión, presenta menor MAE con todas las características sin normalizar pero peor score.\n",
    "- El algoritmo de regresión gaussiana, presenta mejores resultados con default kernel que con la suma de kernels y con las características normalizadas.\n",
    "- El algoritmo SGD presenta mejor score y MAE con X = np.array(df_2[['M']]) que con todas las características normalizadas y sin normalizar."
   ]
  },
  {
   "cell_type": "markdown",
   "metadata": {},
   "source": [
    "### 3. Reparto de casos para conjunto de entrnamiento y pruebas"
   ]
  },
  {
   "cell_type": "code",
   "execution_count": 3,
   "metadata": {},
   "outputs": [],
   "source": [
    "from sklearn.model_selection import train_test_split\n",
    "\n",
    "# Se establece el 20% de los datos como conjunto de test, siendo el 80% restante el conjunto de entrenamiento.\n",
    "X_train, X_test, Y_train, Y_test = train_test_split(X_norm, Y, test_size=0.2)"
   ]
  },
  {
   "cell_type": "markdown",
   "metadata": {},
   "source": [
    "### 4. Importación de los módulos necesarios para cada modelo de regresión"
   ]
  },
  {
   "cell_type": "code",
   "execution_count": 100,
   "metadata": {},
   "outputs": [],
   "source": [
    "# Módulos para los modelos\n",
    "from sklearn import linear_model\n",
    "from sklearn.svm import SVR\n",
    "from sklearn.neighbors import NearestNeighbors, KNeighborsRegressor\n",
    "from sklearn.tree import DecisionTreeRegressor\n",
    "from sklearn.gaussian_process import GaussianProcessRegressor\n",
    "from sklearn.gaussian_process.kernels import RBF, Sum, ConstantKernel, ExpSineSquared\n",
    "from sklearn.linear_model import SGDRegressor\n",
    "\n",
    "# Módulos para las métricas\n",
    "from sklearn.metrics import mean_squared_error, r2_score, max_error, mean_absolute_error"
   ]
  },
  {
   "cell_type": "markdown",
   "metadata": {},
   "source": [
    "### 5. Definición y construcción de los modelos"
   ]
  },
  {
   "cell_type": "code",
   "execution_count": 117,
   "metadata": {},
   "outputs": [],
   "source": [
    "# Definición de los regresores\n",
    "\n",
    "names = [\"Multiple Linear Regression\", \"Linear SVM\", \"RBF SVM\", \"kNN\", \"Decision Tree\", \n",
    "         \"Gaussian Process\", \"SGD\"]\n",
    "classifiers = [\n",
    "    linear_model.LinearRegression(),\n",
    "    SVR(kernel='linear', C=1.0, epsilon=0.2),\n",
    "    SVR(kernel='rbf', C=1.0, epsilon=0.2),\n",
    "    KNeighborsRegressor(n_neighbors=10, weights='distance'),\n",
    "    DecisionTreeRegressor(criterion='mse'),\n",
    "    GaussianProcessRegressor(kernel= Sum(ConstantKernel(2), RBF())),\n",
    "    SGDRegressor()]"
   ]
  },
  {
   "cell_type": "code",
   "execution_count": 118,
   "metadata": {},
   "outputs": [],
   "source": [
    "# Entrenamiento de los modelos y obtención de los valores de score y conjuntos predecidos\n",
    "\n",
    "Y_pred = []\n",
    "\n",
    "for name, clf in zip(names, classifiers):\n",
    "    clf.fit(X_train, Y_train)\n",
    "    Y_pred_aux = clf.predict(X_test)\n",
    "    Y_pred.append(Y_pred_aux)"
   ]
  },
  {
   "cell_type": "code",
   "execution_count": 119,
   "metadata": {},
   "outputs": [],
   "source": [
    "# Obtención de las métricas: Mean squared error, Coefficient of determination, Max error and Mean absolute error.\n",
    "\n",
    "MSE = []\n",
    "DET = []\n",
    "MAX = []\n",
    "MAE = []\n",
    "\n",
    "for x in Y_pred:\n",
    "    mse = mean_squared_error(Y_test, x)\n",
    "    MSE.append(mse)\n",
    "    det = r2_score(Y_test, x)\n",
    "    DET.append(det)\n",
    "    max_e = max_error(Y_test, x)\n",
    "    MAX.append(max_e)\n",
    "    mae = mean_absolute_error(Y_test, x)\n",
    "    MAE.append(mae)"
   ]
  },
  {
   "cell_type": "markdown",
   "metadata": {},
   "source": [
    "### 6. Comparativa de resultados"
   ]
  },
  {
   "cell_type": "code",
   "execution_count": 120,
   "metadata": {},
   "outputs": [
    {
     "data": {
      "text/html": [
       "<div>\n",
       "<style scoped>\n",
       "    .dataframe tbody tr th:only-of-type {\n",
       "        vertical-align: middle;\n",
       "    }\n",
       "\n",
       "    .dataframe tbody tr th {\n",
       "        vertical-align: top;\n",
       "    }\n",
       "\n",
       "    .dataframe thead th {\n",
       "        text-align: right;\n",
       "    }\n",
       "</style>\n",
       "<table border=\"1\" class=\"dataframe\">\n",
       "  <thead>\n",
       "    <tr style=\"text-align: right;\">\n",
       "      <th></th>\n",
       "      <th>Name</th>\n",
       "      <th>Mean square error</th>\n",
       "      <th>Determination</th>\n",
       "      <th>Max error</th>\n",
       "      <th>Mean absolute error</th>\n",
       "    </tr>\n",
       "  </thead>\n",
       "  <tbody>\n",
       "    <tr>\n",
       "      <th>0</th>\n",
       "      <td>Multiple Linear Regression</td>\n",
       "      <td>1.205232</td>\n",
       "      <td>0.785637</td>\n",
       "      <td>3.874510</td>\n",
       "      <td>0.771360</td>\n",
       "    </tr>\n",
       "    <tr>\n",
       "      <th>1</th>\n",
       "      <td>Linear SVM</td>\n",
       "      <td>6.086996</td>\n",
       "      <td>-0.082633</td>\n",
       "      <td>10.529300</td>\n",
       "      <td>1.684018</td>\n",
       "    </tr>\n",
       "    <tr>\n",
       "      <th>2</th>\n",
       "      <td>RBF SVM</td>\n",
       "      <td>6.090397</td>\n",
       "      <td>-0.083238</td>\n",
       "      <td>10.538147</td>\n",
       "      <td>1.683654</td>\n",
       "    </tr>\n",
       "    <tr>\n",
       "      <th>3</th>\n",
       "      <td>kNN</td>\n",
       "      <td>3.628027</td>\n",
       "      <td>0.354719</td>\n",
       "      <td>8.718099</td>\n",
       "      <td>1.291369</td>\n",
       "    </tr>\n",
       "    <tr>\n",
       "      <th>4</th>\n",
       "      <td>Decision Tree</td>\n",
       "      <td>2.228787</td>\n",
       "      <td>0.603588</td>\n",
       "      <td>7.712200</td>\n",
       "      <td>0.893947</td>\n",
       "    </tr>\n",
       "    <tr>\n",
       "      <th>5</th>\n",
       "      <td>Gaussian Process</td>\n",
       "      <td>5.618200</td>\n",
       "      <td>0.000747</td>\n",
       "      <td>9.963446</td>\n",
       "      <td>1.700901</td>\n",
       "    </tr>\n",
       "    <tr>\n",
       "      <th>6</th>\n",
       "      <td>SGD</td>\n",
       "      <td>5.639831</td>\n",
       "      <td>-0.003101</td>\n",
       "      <td>9.976092</td>\n",
       "      <td>1.714943</td>\n",
       "    </tr>\n",
       "  </tbody>\n",
       "</table>\n",
       "</div>"
      ],
      "text/plain": [
       "                         Name  Mean square error  Determination  Max error  \\\n",
       "0  Multiple Linear Regression           1.205232       0.785637   3.874510   \n",
       "1                  Linear SVM           6.086996      -0.082633  10.529300   \n",
       "2                     RBF SVM           6.090397      -0.083238  10.538147   \n",
       "3                         kNN           3.628027       0.354719   8.718099   \n",
       "4               Decision Tree           2.228787       0.603588   7.712200   \n",
       "5            Gaussian Process           5.618200       0.000747   9.963446   \n",
       "6                         SGD           5.639831      -0.003101   9.976092   \n",
       "\n",
       "   Mean absolute error  \n",
       "0             0.771360  \n",
       "1             1.684018  \n",
       "2             1.683654  \n",
       "3             1.291369  \n",
       "4             0.893947  \n",
       "5             1.700901  \n",
       "6             1.714943  "
      ]
     },
     "execution_count": 120,
     "metadata": {},
     "output_type": "execute_result"
    }
   ],
   "source": [
    "#Se genera un dataframe con los resultados\n",
    "\n",
    "df_3 = pd.DataFrame()\n",
    "df_3['Name'] = names\n",
    "df_3['Mean square error'] = MSE\n",
    "df_3['Determination'] = DET\n",
    "df_3['Max error'] = MAX\n",
    "df_3['Mean absolute error'] = MAE\n",
    "df_3"
   ]
  },
  {
   "cell_type": "code",
   "execution_count": 121,
   "metadata": {},
   "outputs": [
    {
     "data": {
      "image/png": "[encoded data removed]",
      "text/plain": [
       "<Figure size 432x288 with 1 Axes>"
      ]
     },
     "metadata": {},
     "output_type": "display_data"
    }
   ],
   "source": [
    "#Se representa de forma gráfica\n",
    "\n",
    "import seaborn as sns\n",
    "\n",
    "ax = sns.barplot(y=\"Name\", x=\"Mean absolute error\", data=df_3, palette=\"magma_r\")"
   ]
  }
 ],
 "metadata": {
  "kernelspec": {
   "display_name": "Python 3",
   "language": "python",
   "name": "python3"
  },
  "language_info": {
   "codemirror_mode": {
    "name": "ipython",
    "version": 3
   },
   "file_extension": ".py",
   "mimetype": "text/x-python",
   "name": "python",
   "nbconvert_exporter": "python",
   "pygments_lexer": "ipython3",
   "version": "3.8.3"
  }
 },
 "nbformat": 4,
 "nbformat_minor": 4
}
